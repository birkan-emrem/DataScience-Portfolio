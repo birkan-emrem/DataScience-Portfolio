{
 "cells": [
  {
   "cell_type": "markdown",
   "id": "20d6ea15",
   "metadata": {},
   "source": [
    "## Deep Learning: Linear Regression\n",
    "\n",
    "In this project, we shall generate a dataset for simple linear regression, comprising 1000 data points and three features. We will achieve this using the `make_regression` function from the `sklearn.datasets` module."
   ]
  },
  {
   "cell_type": "markdown",
   "id": "4e7b7968",
   "metadata": {},
   "source": [
    "### 1. Dataset"
   ]
  },
  {
   "cell_type": "code",
   "execution_count": 1,
   "id": "c5078aa1",
   "metadata": {},
   "outputs": [],
   "source": [
    "import numpy as np\n",
    "import pandas as pd\n",
    "import matplotlib.pyplot as plt\n",
    "from sklearn.datasets import make_regression\n",
    "\n",
    "data = make_regression(n_samples=1000, n_features=3, noise=5, random_state=42)"
   ]
  },
  {
   "cell_type": "code",
   "execution_count": 2,
   "id": "65438fe9",
   "metadata": {},
   "outputs": [
    {
     "name": "stdout",
     "output_type": "stream",
     "text": [
      "Number of data points: 1000\n",
      "Number of data features: 3\n"
     ]
    }
   ],
   "source": [
    "print('Number of data points: {}'.format(data[0].shape[0]))\n",
    "print('Number of data features: {}'.format(data[0].shape[1]))"
   ]
  },
  {
   "cell_type": "code",
   "execution_count": 3,
   "id": "73a8a894",
   "metadata": {},
   "outputs": [
    {
     "data": {
      "text/html": [
       "<div>\n",
       "<style scoped>\n",
       "    .dataframe tbody tr th:only-of-type {\n",
       "        vertical-align: middle;\n",
       "    }\n",
       "\n",
       "    .dataframe tbody tr th {\n",
       "        vertical-align: top;\n",
       "    }\n",
       "\n",
       "    .dataframe thead th {\n",
       "        text-align: right;\n",
       "    }\n",
       "</style>\n",
       "<table border=\"1\" class=\"dataframe\">\n",
       "  <thead>\n",
       "    <tr style=\"text-align: right;\">\n",
       "      <th></th>\n",
       "      <th>x1</th>\n",
       "      <th>x2</th>\n",
       "      <th>x3</th>\n",
       "      <th>y</th>\n",
       "    </tr>\n",
       "  </thead>\n",
       "  <tbody>\n",
       "    <tr>\n",
       "      <th>0</th>\n",
       "      <td>-0.189120</td>\n",
       "      <td>-1.330314</td>\n",
       "      <td>0.921650</td>\n",
       "      <td>-99.884788</td>\n",
       "    </tr>\n",
       "    <tr>\n",
       "      <th>1</th>\n",
       "      <td>-0.653329</td>\n",
       "      <td>-0.474945</td>\n",
       "      <td>1.765454</td>\n",
       "      <td>-58.794289</td>\n",
       "    </tr>\n",
       "    <tr>\n",
       "      <th>2</th>\n",
       "      <td>-0.224856</td>\n",
       "      <td>0.076852</td>\n",
       "      <td>-0.650003</td>\n",
       "      <td>-30.448139</td>\n",
       "    </tr>\n",
       "    <tr>\n",
       "      <th>3</th>\n",
       "      <td>0.570599</td>\n",
       "      <td>-0.662624</td>\n",
       "      <td>-0.763259</td>\n",
       "      <td>-15.323122</td>\n",
       "    </tr>\n",
       "    <tr>\n",
       "      <th>4</th>\n",
       "      <td>0.327880</td>\n",
       "      <td>-0.125454</td>\n",
       "      <td>0.085893</td>\n",
       "      <td>17.961125</td>\n",
       "    </tr>\n",
       "  </tbody>\n",
       "</table>\n",
       "</div>"
      ],
      "text/plain": [
       "         x1        x2        x3          y\n",
       "0 -0.189120 -1.330314  0.921650 -99.884788\n",
       "1 -0.653329 -0.474945  1.765454 -58.794289\n",
       "2 -0.224856  0.076852 -0.650003 -30.448139\n",
       "3  0.570599 -0.662624 -0.763259 -15.323122\n",
       "4  0.327880 -0.125454  0.085893  17.961125"
      ]
     },
     "execution_count": 3,
     "metadata": {},
     "output_type": "execute_result"
    }
   ],
   "source": [
    "# convert data to pandas dataframe\n",
    "df = pd.DataFrame()\n",
    "df['x1'] = data[0][:, 0]\n",
    "df['x2'] = data[0][:, 1]\n",
    "df['x3'] = data[0][:, 2]\n",
    "df['y'] = data[1]\n",
    "\n",
    "# show first five rows of dataframe\n",
    "df.head()"
   ]
  },
  {
   "cell_type": "code",
   "execution_count": 4,
   "id": "f584ff9a",
   "metadata": {},
   "outputs": [],
   "source": [
    "# save dataframe as csv file\n",
    "df.to_csv('lr.csv', index=False)"
   ]
  },
  {
   "cell_type": "markdown",
   "id": "71770fbe",
   "metadata": {},
   "source": [
    "### 2. Deep Learning: Linear Regression\n",
    "\n",
    "To begin, we will import the required modules."
   ]
  },
  {
   "cell_type": "code",
   "execution_count": 5,
   "id": "24e1c7f9",
   "metadata": {},
   "outputs": [],
   "source": [
    "import torch\n",
    "from torch import nn\n",
    "import pandas as pd\n",
    "from torch.utils.data import Dataset, DataLoader\n",
    "from sklearn.preprocessing import StandardScaler\n",
    "import matplotlib.pyplot as plt"
   ]
  },
  {
   "cell_type": "markdown",
   "id": "284ce1fc",
   "metadata": {},
   "source": [
    "Next, we will create a dataset class"
   ]
  },
  {
   "cell_type": "code",
   "execution_count": 6,
   "id": "1f3b1876",
   "metadata": {},
   "outputs": [],
   "source": [
    "class LRDataset(Dataset):\n",
    "    def __init__(self, csv_file):\n",
    "        file = pd.read_csv(csv_file)\n",
    "        self.x = file.iloc[:, :-1]\n",
    "        self.y = np.array(file.iloc[:, -1])\n",
    "        \n",
    "        # scaling\n",
    "        self.scaler = StandardScaler()\n",
    "        self.features = self.scaler.fit_transform(self.x)\n",
    "        self.label = self.scaler.fit_transform(self.y.reshape(-1, 1))\n",
    "\n",
    "        # transform to torch tensor\n",
    "        self.X_train = torch.tensor(self.features, dtype=torch.float32)\n",
    "        self.y_train = torch.tensor(self.label, dtype=torch.float32)\n",
    "    \n",
    "    def __len__(self):\n",
    "        return len(self.y_train)\n",
    "    \n",
    "    def __getitem__(self, idx):\n",
    "        return self.X_train[idx], self.y_train[idx]"
   ]
  },
  {
   "cell_type": "markdown",
   "id": "6167a8f5",
   "metadata": {},
   "source": [
    "We'll use the CSV file we created in the first section."
   ]
  },
  {
   "cell_type": "code",
   "execution_count": 7,
   "id": "928653d7",
   "metadata": {},
   "outputs": [],
   "source": [
    "# pass the csv file\n",
    "features = LRDataset('lr.csv')\n",
    "\n",
    "# Data loader\n",
    "train_loader = DataLoader(features, batch_size=10, shuffle=True)"
   ]
  },
  {
   "cell_type": "markdown",
   "id": "8700d75a",
   "metadata": {},
   "source": [
    "Next, we will construct a linear regression class. Linear regression is constructed using a single linear layer."
   ]
  },
  {
   "cell_type": "code",
   "execution_count": 8,
   "id": "3daf85e8",
   "metadata": {},
   "outputs": [],
   "source": [
    "class Net(nn.Module):\n",
    "    def __init__(self, input_size, output_size):\n",
    "        super(Net, self).__init__()\n",
    "        self.layer = torch.nn.Linear(input_size, output_size)\n",
    "        \n",
    "    def forward(self, x):\n",
    "        out = self.layer(x)\n",
    "        return out\n",
    "    \n",
    "\n",
    "input_size = features.X_train.shape[1]\n",
    "output_size = 1\n",
    "\n",
    "# define the model\n",
    "model = Net(input_size, output_size)\n",
    "\n",
    "# define the loss function and optimizer\n",
    "loss_func = nn.MSELoss()\n",
    "optimizer = torch.optim.SGD(model.parameters(), lr=0.001)    "
   ]
  },
  {
   "cell_type": "markdown",
   "id": "fa66aed4",
   "metadata": {},
   "source": [
    "Lastly, we will create the training loop."
   ]
  },
  {
   "cell_type": "code",
   "execution_count": 9,
   "id": "4e846d6e",
   "metadata": {
    "scrolled": true
   },
   "outputs": [
    {
     "name": "stdout",
     "output_type": "stream",
     "text": [
      "Training started...\n",
      "Epoch 5/50 - Loss: 8.3323 - MSE: 0.0833\n",
      "Epoch 10/50 - Loss: 1.3218 - MSE: 0.0132\n",
      "Epoch 15/50 - Loss: 0.3195 - MSE: 0.0032\n",
      "Epoch 20/50 - Loss: 0.1752 - MSE: 0.0018\n",
      "Epoch 25/50 - Loss: 0.1543 - MSE: 0.0015\n",
      "Epoch 30/50 - Loss: 0.1513 - MSE: 0.0015\n",
      "Epoch 35/50 - Loss: 0.1509 - MSE: 0.0015\n",
      "Epoch 40/50 - Loss: 0.1508 - MSE: 0.0015\n",
      "Epoch 45/50 - Loss: 0.1508 - MSE: 0.0015\n",
      "Epoch 50/50 - Loss: 0.1508 - MSE: 0.0015\n",
      "Training completed.\n"
     ]
    }
   ],
   "source": [
    "epochs = 50\n",
    "\n",
    "# Lists to store loss values for plotting\n",
    "training_losses = []\n",
    "\n",
    "print(\"Training started...\")\n",
    "for i in range(epochs):\n",
    "    running_loss = 0\n",
    "    total_samples = 0\n",
    "    total_mse = 0\n",
    "    \n",
    "    for features, labels in train_loader:\n",
    "        \n",
    "        # forward pass\n",
    "        output = model(features)\n",
    "        loss = loss_func(output, labels.view(-1, 1))\n",
    "        \n",
    "        optimizer.zero_grad() # clear previous gradients\n",
    "        loss.backward() # backward pass\n",
    "        optimizer.step()\n",
    "        \n",
    "        running_loss += loss.item()\n",
    "        total_samples += labels.size(0)\n",
    "        total_mse += loss.item() * labels.size(0)\n",
    "    \n",
    "    mse = total_mse / total_samples  # Calculate mse\n",
    "\n",
    "    training_losses.append(mse)  # Store training loss for plotting\n",
    "    \n",
    "    if (i + 1) % 5 == 0:  # Print for each 5 epochs\n",
    "        print(f\"Epoch {i + 1}/{epochs} - Loss: {running_loss:.4f} - MSE: {mse:.4f}\")\n",
    "\n",
    "print(\"Training completed.\")\n"
   ]
  },
  {
   "cell_type": "code",
   "execution_count": 10,
   "id": "2fd86f5c",
   "metadata": {},
   "outputs": [
    {
     "data": {
      "image/png": "[encoded data removed]",
      "text/plain": [
       "<Figure size 640x480 with 1 Axes>"
      ]
     },
     "metadata": {},
     "output_type": "display_data"
    }
   ],
   "source": [
    "# Final loss curve plot (only once)\n",
    "plt.plot(range(1, epochs + 1), training_losses, label='MSE')\n",
    "plt.xlabel('Epoch')\n",
    "plt.ylabel('MSE')\n",
    "plt.legend()\n",
    "plt.show()\n"
   ]
  },
  {
   "cell_type": "code",
   "execution_count": null,
   "id": "f57f8306",
   "metadata": {},
   "outputs": [],
   "source": []
  }
 ],
 "metadata": {
  "kernelspec": {
   "display_name": "Python 3 (ipykernel)",
   "language": "python",
   "name": "python3"
  },
  "language_info": {
   "codemirror_mode": {
    "name": "ipython",
    "version": 3
   },
   "file_extension": ".py",
   "mimetype": "text/x-python",
   "name": "python",
   "nbconvert_exporter": "python",
   "pygments_lexer": "ipython3",
   "version": "3.11.4"
  }
 },
 "nbformat": 4,
 "nbformat_minor": 5
}
